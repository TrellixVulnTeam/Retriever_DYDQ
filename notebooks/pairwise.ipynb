{
 "cells": [
  {
   "cell_type": "markdown",
   "metadata": {},
   "source": [
    "# Pairwise Evaluation"
   ]
  },
  {
   "cell_type": "markdown",
   "metadata": {},
   "source": [
    "### Imports"
   ]
  },
  {
   "cell_type": "code",
   "execution_count": 3,
   "metadata": {
    "pycharm": {
     "is_executing": true
    }
   },
   "outputs": [],
   "source": [
    "import os\n",
    "import sys\n",
    "sys.path.append(os.path.dirname((os.path.abspath(\"\"))))"
   ]
  },
  {
   "cell_type": "code",
   "execution_count": 6,
   "metadata": {},
   "outputs": [
    {
     "name": "stdout",
     "output_type": "stream",
     "text": [
      "Looking in indexes: https://int.repositories.cloud.sap/artifactory/api/pypi/build-releases-pypi/simple, https://int.repositories.cloud.sap/artifactory/api/pypi/build-milestones-pypi/simple\n",
      "Collecting sentence-transformers\n",
      "  Using cached sentence_transformers-2.2.0-py3-none-any.whl\n",
      "Requirement already satisfied: tqdm in c:\\users\\d073999\\documents\\priv-dev\\retriever\\lib\\site-packages (from sentence-transformers) (4.64.0)\n",
      "Requirement already satisfied: scikit-learn in c:\\users\\d073999\\documents\\priv-dev\\retriever\\lib\\site-packages (from sentence-transformers) (1.0.2)\n",
      "Requirement already satisfied: scipy in c:\\users\\d073999\\documents\\priv-dev\\retriever\\lib\\site-packages (from sentence-transformers) (1.7.3)\n",
      "Requirement already satisfied: nltk in c:\\users\\d073999\\documents\\priv-dev\\retriever\\lib\\site-packages (from sentence-transformers) (3.7)\n",
      "Requirement already satisfied: huggingface-hub in c:\\users\\d073999\\documents\\priv-dev\\retriever\\lib\\site-packages (from sentence-transformers) (0.5.1)\n",
      "Requirement already satisfied: sentencepiece in c:\\users\\d073999\\documents\\priv-dev\\retriever\\lib\\site-packages (from sentence-transformers) (0.1.95)\n",
      "Requirement already satisfied: transformers<5.0.0,>=4.6.0 in c:\\users\\d073999\\documents\\priv-dev\\retriever\\lib\\site-packages (from sentence-transformers) (4.18.0)\n",
      "Collecting torchvision\n",
      "  Using cached https://int.repositories.cloud.sap/artifactory/api/pypi/build-milestones-pypi/packages/packages/2e/99/79ff8e77a9df8ce787e599a95ec01c9710f297d35e0fe9ab4a83b96b6317/torchvision-0.12.0-cp37-cp37m-win_amd64.whl (1.0 MB)\n",
      "Requirement already satisfied: torch>=1.6.0 in c:\\users\\d073999\\documents\\priv-dev\\retriever\\lib\\site-packages (from sentence-transformers) (1.11.0)\n",
      "Requirement already satisfied: numpy in c:\\users\\d073999\\documents\\priv-dev\\retriever\\lib\\site-packages (from sentence-transformers) (1.21.5)\n",
      "Requirement already satisfied: typing-extensions in c:\\users\\d073999\\documents\\priv-dev\\retriever\\lib\\site-packages (from torch>=1.6.0->sentence-transformers) (4.1.1)\n",
      "Requirement already satisfied: requests in c:\\users\\d073999\\documents\\priv-dev\\retriever\\lib\\site-packages (from transformers<5.0.0,>=4.6.0->sentence-transformers) (2.27.1)\n",
      "Requirement already satisfied: importlib-metadata in c:\\users\\d073999\\documents\\priv-dev\\retriever\\lib\\site-packages (from transformers<5.0.0,>=4.6.0->sentence-transformers) (4.11.3)\n",
      "Requirement already satisfied: packaging>=20.0 in c:\\users\\d073999\\documents\\priv-dev\\retriever\\lib\\site-packages (from transformers<5.0.0,>=4.6.0->sentence-transformers) (21.3)\n",
      "Requirement already satisfied: filelock in c:\\users\\d073999\\documents\\priv-dev\\retriever\\lib\\site-packages (from transformers<5.0.0,>=4.6.0->sentence-transformers) (3.6.0)\n",
      "Requirement already satisfied: sacremoses in c:\\users\\d073999\\documents\\priv-dev\\retriever\\lib\\site-packages (from transformers<5.0.0,>=4.6.0->sentence-transformers) (0.0.49)\n",
      "Requirement already satisfied: tokenizers!=0.11.3,<0.13,>=0.11.1 in c:\\users\\d073999\\documents\\priv-dev\\retriever\\lib\\site-packages (from transformers<5.0.0,>=4.6.0->sentence-transformers) (0.12.1)\n",
      "Requirement already satisfied: pyyaml>=5.1 in c:\\users\\d073999\\documents\\priv-dev\\retriever\\lib\\site-packages (from transformers<5.0.0,>=4.6.0->sentence-transformers) (6.0)\n",
      "Requirement already satisfied: regex!=2019.12.17 in c:\\users\\d073999\\documents\\priv-dev\\retriever\\lib\\site-packages (from transformers<5.0.0,>=4.6.0->sentence-transformers) (2022.3.15)\n",
      "Requirement already satisfied: pyparsing!=3.0.5,>=2.0.2 in c:\\users\\d073999\\documents\\priv-dev\\retriever\\lib\\site-packages (from packaging>=20.0->transformers<5.0.0,>=4.6.0->sentence-transformers) (3.0.7)\n",
      "Requirement already satisfied: colorama in c:\\users\\d073999\\documents\\priv-dev\\retriever\\lib\\site-packages (from tqdm->sentence-transformers) (0.4.4)\n",
      "Requirement already satisfied: zipp>=0.5 in c:\\users\\d073999\\documents\\priv-dev\\retriever\\lib\\site-packages (from importlib-metadata->transformers<5.0.0,>=4.6.0->sentence-transformers) (3.8.0)\n",
      "Requirement already satisfied: click in c:\\users\\d073999\\documents\\priv-dev\\retriever\\lib\\site-packages (from nltk->sentence-transformers) (8.1.2)\n",
      "Requirement already satisfied: joblib in c:\\users\\d073999\\documents\\priv-dev\\retriever\\lib\\site-packages (from nltk->sentence-transformers) (1.1.0)\n",
      "Requirement already satisfied: idna<4,>=2.5 in c:\\users\\d073999\\documents\\priv-dev\\retriever\\lib\\site-packages (from requests->transformers<5.0.0,>=4.6.0->sentence-transformers) (3.3)\n",
      "Requirement already satisfied: urllib3<1.27,>=1.21.1 in c:\\users\\d073999\\documents\\priv-dev\\retriever\\lib\\site-packages (from requests->transformers<5.0.0,>=4.6.0->sentence-transformers) (1.26.9)\n",
      "Requirement already satisfied: certifi>=2017.4.17 in c:\\users\\d073999\\documents\\priv-dev\\retriever\\lib\\site-packages (from requests->transformers<5.0.0,>=4.6.0->sentence-transformers) (2021.10.8)\n",
      "Requirement already satisfied: charset-normalizer~=2.0.0 in c:\\users\\d073999\\documents\\priv-dev\\retriever\\lib\\site-packages (from requests->transformers<5.0.0,>=4.6.0->sentence-transformers) (2.0.12)\n",
      "Requirement already satisfied: six in c:\\users\\d073999\\documents\\priv-dev\\retriever\\lib\\site-packages (from sacremoses->transformers<5.0.0,>=4.6.0->sentence-transformers) (1.16.0)\n",
      "Requirement already satisfied: threadpoolctl>=2.0.0 in c:\\users\\d073999\\documents\\priv-dev\\retriever\\lib\\site-packages (from scikit-learn->sentence-transformers) (3.1.0)\n",
      "Requirement already satisfied: pillow!=8.3.*,>=5.3.0 in c:\\users\\d073999\\documents\\priv-dev\\retriever\\lib\\site-packages (from torchvision->sentence-transformers) (9.1.0)\n",
      "Installing collected packages: torchvision, sentence-transformers\n",
      "Successfully installed sentence-transformers-2.2.0 torchvision-0.12.0\n"
     ]
    },
    {
     "name": "stderr",
     "output_type": "stream",
     "text": [
      "WARNING: You are using pip version 21.1.2; however, version 22.1.1 is available.\n",
      "You should consider upgrading via the 'C:\\Users\\D073999\\Documents\\Priv-Dev\\Retriever\\Scripts\\python.exe -m pip install --upgrade pip' command.\n"
     ]
    }
   ],
   "source": [
    "!pip install sentence-transformers"
   ]
  },
  {
   "cell_type": "code",
   "execution_count": 15,
   "metadata": {},
   "outputs": [
    {
     "name": "stdout",
     "output_type": "stream",
     "text": [
      "Looking in indexes: https://int.repositories.cloud.sap/artifactory/api/pypi/build-releases-pypi/simple, https://int.repositories.cloud.sap/artifactory/api/pypi/build-milestones-pypi/simple\n",
      "Requirement already satisfied: scikit_optimize in c:\\users\\d073999\\documents\\priv-dev\\retriever\\lib\\site-packages (0.9.0)\n",
      "Requirement already satisfied: scipy>=0.19.1 in c:\\users\\d073999\\documents\\priv-dev\\retriever\\lib\\site-packages (from scikit_optimize) (1.7.3)\n",
      "Requirement already satisfied: pyaml>=16.9 in c:\\users\\d073999\\documents\\priv-dev\\retriever\\lib\\site-packages (from scikit_optimize) (21.10.1)\n",
      "Requirement already satisfied: numpy>=1.13.3 in c:\\users\\d073999\\documents\\priv-dev\\retriever\\lib\\site-packages (from scikit_optimize) (1.21.5)\n",
      "Requirement already satisfied: scikit-learn>=0.20.0 in c:\\users\\d073999\\documents\\priv-dev\\retriever\\lib\\site-packages (from scikit_optimize) (1.0.2)\n",
      "Requirement already satisfied: joblib>=0.11 in c:\\users\\d073999\\documents\\priv-dev\\retriever\\lib\\site-packages (from scikit_optimize) (1.1.0)\n",
      "Requirement already satisfied: PyYAML in c:\\users\\d073999\\documents\\priv-dev\\retriever\\lib\\site-packages (from pyaml>=16.9->scikit_optimize) (6.0)\n",
      "Requirement already satisfied: threadpoolctl>=2.0.0 in c:\\users\\d073999\\documents\\priv-dev\\retriever\\lib\\site-packages (from scikit-learn>=0.20.0->scikit_optimize) (3.1.0)\n"
     ]
    },
    {
     "name": "stderr",
     "output_type": "stream",
     "text": [
      "WARNING: You are using pip version 21.1.2; however, version 22.1.1 is available.\n",
      "You should consider upgrading via the 'C:\\Users\\D073999\\Documents\\Priv-Dev\\Retriever\\Scripts\\python.exe -m pip install --upgrade pip' command.\n"
     ]
    }
   ],
   "source": [
    "!pip install scikit_optimize"
   ]
  },
  {
   "cell_type": "code",
   "execution_count": 16,
   "metadata": {},
   "outputs": [],
   "source": [
    "from src.pipeline import Pipeline"
   ]
  },
  {
   "cell_type": "code",
   "execution_count": 30,
   "metadata": {},
   "outputs": [
    {
     "name": "stdout",
     "output_type": "stream",
     "text": [
      "C:\\Users\\D073999\\Documents\\uni-Mannheim\\Information-Retrieval-and-web-search\\Retriever\\notebooks\n"
     ]
    }
   ],
   "source": [
    "import os\n",
    "print(os.getcwd())"
   ]
  },
  {
   "cell_type": "code",
   "execution_count": 38,
   "metadata": {},
   "outputs": [],
   "source": [
    "parentpath = 'C:\\\\Users\\\\D073999\\\\Documents\\\\uni-Mannheim\\\\Information-Retrieval-and-web-search\\\\Retriever'"
   ]
  },
  {
   "cell_type": "code",
   "execution_count": 44,
   "metadata": {},
   "outputs": [
    {
     "ename": "FileNotFoundError",
     "evalue": "[Errno 2] No such file or directory: 'data/processed/30_5000_1000_qrels_val.pkl'",
     "output_type": "error",
     "traceback": [
      "\u001B[1;31m---------------------------------------------------------------------------\u001B[0m",
      "\u001B[1;31mFileNotFoundError\u001B[0m                         Traceback (most recent call last)",
      "\u001B[1;32m~\\AppData\\Local\\Temp\\ipykernel_44164\\349192761.py\u001B[0m in \u001B[0;36m<module>\u001B[1;34m\u001B[0m\n\u001B[0;32m      8\u001B[0m     \u001B[0mqrels_test\u001B[0m\u001B[1;33m=\u001B[0m\u001B[1;34m'data/processed/30_5000_1000_qrels_test.pkl'\u001B[0m\u001B[1;33m,\u001B[0m\u001B[1;33m\u001B[0m\u001B[0m\n\u001B[0;32m      9\u001B[0m     \u001B[0mfeatures_test\u001B[0m\u001B[1;33m=\u001B[0m\u001B[1;34m'data/processed/30_5000_1000_features_test.pkl'\u001B[0m\u001B[1;33m,\u001B[0m\u001B[1;33m\u001B[0m\u001B[0m\n\u001B[1;32m---> 10\u001B[1;33m     \u001B[0mfeatures_val\u001B[0m\u001B[1;33m=\u001B[0m \u001B[1;34m'data/processed/30_5000_1000_features_val.pkl'\u001B[0m\u001B[1;33m\u001B[0m\u001B[0m\n\u001B[0m\u001B[0;32m     11\u001B[0m )\n",
      "\u001B[1;32m~\\Documents\\uni-Mannheim\\Information-Retrieval-and-web-search\\Retriever\\src\\pipeline.py\u001B[0m in \u001B[0;36m__init__\u001B[1;34m(self, collection, queries, queries_val, queries_test, features, qrels_val, qrels_test, features_test, features_val)\u001B[0m\n\u001B[0;32m    125\u001B[0m         \"\"\"\n\u001B[0;32m    126\u001B[0m         \u001B[1;32mif\u001B[0m \u001B[0mqrels_val\u001B[0m \u001B[1;32mis\u001B[0m \u001B[1;32mnot\u001B[0m \u001B[1;32mNone\u001B[0m\u001B[1;33m:\u001B[0m\u001B[1;33m\u001B[0m\u001B[0m\n\u001B[1;32m--> 127\u001B[1;33m             \u001B[0mself\u001B[0m\u001B[1;33m.\u001B[0m\u001B[0mqrels_val\u001B[0m \u001B[1;33m=\u001B[0m \u001B[0mpd\u001B[0m\u001B[1;33m.\u001B[0m\u001B[0mread_pickle\u001B[0m\u001B[1;33m(\u001B[0m\u001B[0mqrels_val\u001B[0m\u001B[1;33m)\u001B[0m\u001B[1;33m\u001B[0m\u001B[0m\n\u001B[0m\u001B[0;32m    128\u001B[0m         \u001B[1;32mif\u001B[0m \u001B[0mqrels_test\u001B[0m \u001B[1;32mis\u001B[0m \u001B[1;32mnot\u001B[0m \u001B[1;32mNone\u001B[0m\u001B[1;33m:\u001B[0m\u001B[1;33m\u001B[0m\u001B[0m\n\u001B[0;32m    129\u001B[0m             \u001B[0mself\u001B[0m\u001B[1;33m.\u001B[0m\u001B[0mqrels_test\u001B[0m \u001B[1;33m=\u001B[0m \u001B[0mpd\u001B[0m\u001B[1;33m.\u001B[0m\u001B[0mread_pickle\u001B[0m\u001B[1;33m(\u001B[0m\u001B[0mqrels_test\u001B[0m\u001B[1;33m)\u001B[0m\u001B[1;33m\u001B[0m\u001B[0m\n",
      "\u001B[1;32mc:\\users\\d073999\\documents\\priv-dev\\retriever\\lib\\site-packages\\pandas\\io\\pickle.py\u001B[0m in \u001B[0;36mread_pickle\u001B[1;34m(filepath_or_buffer, compression)\u001B[0m\n\u001B[0;32m    167\u001B[0m     \u001B[1;32mif\u001B[0m \u001B[1;32mnot\u001B[0m \u001B[0misinstance\u001B[0m\u001B[1;33m(\u001B[0m\u001B[0mfp_or_buf\u001B[0m\u001B[1;33m,\u001B[0m \u001B[0mstr\u001B[0m\u001B[1;33m)\u001B[0m \u001B[1;32mand\u001B[0m \u001B[0mcompression\u001B[0m \u001B[1;33m==\u001B[0m \u001B[1;34m\"infer\"\u001B[0m\u001B[1;33m:\u001B[0m\u001B[1;33m\u001B[0m\u001B[0m\n\u001B[0;32m    168\u001B[0m         \u001B[0mcompression\u001B[0m \u001B[1;33m=\u001B[0m \u001B[1;32mNone\u001B[0m\u001B[1;33m\u001B[0m\u001B[0m\n\u001B[1;32m--> 169\u001B[1;33m     \u001B[0mf\u001B[0m\u001B[1;33m,\u001B[0m \u001B[0mfh\u001B[0m \u001B[1;33m=\u001B[0m \u001B[0mget_handle\u001B[0m\u001B[1;33m(\u001B[0m\u001B[0mfp_or_buf\u001B[0m\u001B[1;33m,\u001B[0m \u001B[1;34m\"rb\"\u001B[0m\u001B[1;33m,\u001B[0m \u001B[0mcompression\u001B[0m\u001B[1;33m=\u001B[0m\u001B[0mcompression\u001B[0m\u001B[1;33m,\u001B[0m \u001B[0mis_text\u001B[0m\u001B[1;33m=\u001B[0m\u001B[1;32mFalse\u001B[0m\u001B[1;33m)\u001B[0m\u001B[1;33m\u001B[0m\u001B[0m\n\u001B[0m\u001B[0;32m    170\u001B[0m \u001B[1;33m\u001B[0m\u001B[0m\n\u001B[0;32m    171\u001B[0m     \u001B[1;31m# 1) try standard library Pickle\u001B[0m\u001B[1;33m\u001B[0m\u001B[1;33m\u001B[0m\u001B[0m\n",
      "\u001B[1;32mc:\\users\\d073999\\documents\\priv-dev\\retriever\\lib\\site-packages\\pandas\\io\\common.py\u001B[0m in \u001B[0;36mget_handle\u001B[1;34m(path_or_buf, mode, encoding, compression, memory_map, is_text, errors)\u001B[0m\n\u001B[0;32m    497\u001B[0m         \u001B[1;32melse\u001B[0m\u001B[1;33m:\u001B[0m\u001B[1;33m\u001B[0m\u001B[0m\n\u001B[0;32m    498\u001B[0m             \u001B[1;31m# Binary mode\u001B[0m\u001B[1;33m\u001B[0m\u001B[1;33m\u001B[0m\u001B[0m\n\u001B[1;32m--> 499\u001B[1;33m             \u001B[0mf\u001B[0m \u001B[1;33m=\u001B[0m \u001B[0mopen\u001B[0m\u001B[1;33m(\u001B[0m\u001B[0mpath_or_buf\u001B[0m\u001B[1;33m,\u001B[0m \u001B[0mmode\u001B[0m\u001B[1;33m)\u001B[0m\u001B[1;33m\u001B[0m\u001B[0m\n\u001B[0m\u001B[0;32m    500\u001B[0m         \u001B[0mhandles\u001B[0m\u001B[1;33m.\u001B[0m\u001B[0mappend\u001B[0m\u001B[1;33m(\u001B[0m\u001B[0mf\u001B[0m\u001B[1;33m)\u001B[0m\u001B[1;33m\u001B[0m\u001B[0m\n\u001B[0;32m    501\u001B[0m \u001B[1;33m\u001B[0m\u001B[0m\n",
      "\u001B[1;31mFileNotFoundError\u001B[0m: [Errno 2] No such file or directory: 'data/processed/30_5000_1000_qrels_val.pkl'"
     ]
    }
   ],
   "source": [
    "pipeline = Pipeline(\n",
    "    collection='data/processed/30_5000_1000_collection.pkl',\n",
    "    queries='data/processed/30_5000_1000_queries.pkl',\n",
    "    queries_val='data/processed/30_5000_1000_queries_val.pkl',\n",
    "    queries_test='data/processed/30_5000_1000_queries_test.pkl',\n",
    "    features='data/processed/30_5000_1000_features.pkl',\n",
    "    qrels_val= 'data/processed/30_5000_1000_qrels_val.pkl',\n",
    "    qrels_test='data/processed/30_5000_1000_qrels_test.pkl',\n",
    "    features_test='data/processed/30_5000_1000_features_test.pkl',\n",
    "    features_val= 'data/processed/30_5000_1000_features_val.pkl'\n",
    ")"
   ]
  },
  {
   "cell_type": "code",
   "execution_count": null,
   "metadata": {
    "scrolled": false
   },
   "outputs": [],
   "source": [
    "pipeline.features"
   ]
  },
  {
   "cell_type": "markdown",
   "metadata": {},
   "source": [
    "### RankNet"
   ]
  },
  {
   "cell_type": "markdown",
   "metadata": {},
   "source": [
    "##### Logistic Regression Combination"
   ]
  },
  {
   "cell_type": "code",
   "execution_count": null,
   "metadata": {},
   "outputs": [],
   "source": [
    "pipeline.evaluate(\n",
    "    name='lr_ranknet',\n",
    "    model='lr', \n",
    "    pca=0,\n",
    "    pairwise_model='ranknet',\n",
    "    pairwise_top_k=140,\n",
    "    models_path = 'models/ranknet.pth'\n",
    ")"
   ]
  },
  {
   "cell_type": "markdown",
   "metadata": {},
   "source": [
    "##### Naive Bayes Combination"
   ]
  },
  {
   "cell_type": "code",
   "execution_count": null,
   "metadata": {
    "scrolled": true
   },
   "outputs": [],
   "source": [
    "pipeline.evaluate(\n",
    "    name='nb_ranknet',\n",
    "    model='nb', \n",
    "    pca=0,\n",
    "    pairwise_model='ranknet',\n",
    "    pairwise_top_k=140,\n",
    "    models_path = 'models/ranknet.pth'\n",
    ")"
   ]
  },
  {
   "cell_type": "code",
   "execution_count": null,
   "metadata": {},
   "outputs": [],
   "source": [
    "import pandas as pd\n",
    "from src.utils.utils import load\n",
    "\n",
    "results = load('data/results/results.pkl')"
   ]
  },
  {
   "cell_type": "markdown",
   "metadata": {},
   "source": [
    "### Results Overview"
   ]
  },
  {
   "cell_type": "code",
   "execution_count": null,
   "metadata": {},
   "outputs": [],
   "source": [
    "results[results['name'] == 'lr_ranknet']"
   ]
  }
 ],
 "metadata": {
  "interpreter": {
   "hash": "15e7f6431c3efcc25ffb982d882caeeee1a07ee55caab724c679dfe0992cca8b"
  },
  "kernelspec": {
   "display_name": "Python 3 (ipykernel)",
   "language": "python",
   "name": "python3"
  },
  "language_info": {
   "codemirror_mode": {
    "name": "ipython",
    "version": 3
   },
   "file_extension": ".py",
   "mimetype": "text/x-python",
   "name": "python",
   "nbconvert_exporter": "python",
   "pygments_lexer": "ipython3",
   "version": "3.7.0"
  }
 },
 "nbformat": 4,
 "nbformat_minor": 1
}