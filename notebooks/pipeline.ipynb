{
 "cells": [
  {
   "cell_type": "code",
   "execution_count": 1,
   "metadata": {},
   "outputs": [
    {
     "name": "stderr",
     "output_type": "stream",
     "text": [
      "[nltk_data] Downloading package punkt to /Users/tim/nltk_data...\n",
      "[nltk_data]   Package punkt is already up-to-date!\n",
      "[nltk_data] Downloading package stopwords to /Users/tim/nltk_data...\n",
      "[nltk_data]   Package stopwords is already up-to-date!\n",
      "[nltk_data] Downloading package wordnet to /Users/tim/nltk_data...\n",
      "[nltk_data]   Package wordnet is already up-to-date!\n"
     ]
    }
   ],
   "source": [
    "import os\n",
    "import sys\n",
    "sys.path.append(os.path.dirname((os.path.abspath(''))))\n",
    "\n",
    "from src.pipeline import Pipeline\n",
    "from src.preprocessing.preprocessing import removal, tokenization, stemming"
   ]
  },
  {
   "cell_type": "code",
   "execution_count": null,
   "metadata": {},
   "outputs": [],
   "source": [
    "pipeline = Pipeline(collection = '../data/raw/collection.pkl', queries = '../data/raw/queries.pkl', features ='data/processed/qID_pID')"
   ]
  },
  {
   "cell_type": "code",
   "execution_count": 2,
   "metadata": {},
   "outputs": [],
   "source": [
    "pipeline = Pipeline()"
   ]
  },
  {
   "cell_type": "code",
   "execution_count": 3,
   "metadata": {},
   "outputs": [],
   "source": [
    "pipeline.setup()"
   ]
  },
  {
   "cell_type": "code",
   "execution_count": 13,
   "metadata": {},
   "outputs": [
    {
     "data": {
      "text/html": [
       "<div><strong>Dask DataFrame Structure:</strong></div>\n",
       "<div>\n",
       "<style scoped>\n",
       "    .dataframe tbody tr th:only-of-type {\n",
       "        vertical-align: middle;\n",
       "    }\n",
       "\n",
       "    .dataframe tbody tr th {\n",
       "        vertical-align: top;\n",
       "    }\n",
       "\n",
       "    .dataframe thead th {\n",
       "        text-align: right;\n",
       "    }\n",
       "</style>\n",
       "<table border=\"1\" class=\"dataframe\">\n",
       "  <thead>\n",
       "    <tr style=\"text-align: right;\">\n",
       "      <th></th>\n",
       "      <th>pID</th>\n",
       "      <th>Passage</th>\n",
       "    </tr>\n",
       "    <tr>\n",
       "      <th>npartitions=61</th>\n",
       "      <th></th>\n",
       "      <th></th>\n",
       "    </tr>\n",
       "  </thead>\n",
       "  <tbody>\n",
       "    <tr>\n",
       "      <th></th>\n",
       "      <td>int64</td>\n",
       "      <td>object</td>\n",
       "    </tr>\n",
       "    <tr>\n",
       "      <th></th>\n",
       "      <td>...</td>\n",
       "      <td>...</td>\n",
       "    </tr>\n",
       "    <tr>\n",
       "      <th>...</th>\n",
       "      <td>...</td>\n",
       "      <td>...</td>\n",
       "    </tr>\n",
       "    <tr>\n",
       "      <th></th>\n",
       "      <td>...</td>\n",
       "      <td>...</td>\n",
       "    </tr>\n",
       "    <tr>\n",
       "      <th></th>\n",
       "      <td>...</td>\n",
       "      <td>...</td>\n",
       "    </tr>\n",
       "  </tbody>\n",
       "</table>\n",
       "</div>\n",
       "<div>Dask Name: read-csv, 61 tasks</div>"
      ],
      "text/plain": [
       "Dask DataFrame Structure:\n",
       "                  pID Passage\n",
       "npartitions=61               \n",
       "                int64  object\n",
       "                  ...     ...\n",
       "...               ...     ...\n",
       "                  ...     ...\n",
       "                  ...     ...\n",
       "Dask Name: read-csv, 61 tasks"
      ]
     },
     "execution_count": 13,
     "metadata": {},
     "output_type": "execute_result"
    }
   ],
   "source": [
    "pipeline.collection"
   ]
  },
  {
   "cell_type": "code",
   "execution_count": 4,
   "metadata": {
    "scrolled": false
   },
   "outputs": [
    {
     "name": "stderr",
     "output_type": "stream",
     "text": [
      "/Users/tim/opt/anaconda3/envs/inforetrieval/lib/python3.9/site-packages/dask/dataframe/core.py:3930: UserWarning: \n",
      "You did not provide metadata, so Dask is running your function on a small dataset to guess output types. It is possible that Dask will guess incorrectly.\n",
      "To provide an explicit output types or to silence this message, please provide the `meta=` keyword, as described in the map or apply function that you are using.\n",
      "  Before: .apply(func)\n",
      "  After:  .apply(func, meta=('Passage', 'object'))\n",
      "\n",
      "  warnings.warn(meta_warning(meta))\n",
      "/Users/tim/opt/anaconda3/envs/inforetrieval/lib/python3.9/site-packages/dask/dataframe/core.py:3930: UserWarning: \n",
      "You did not provide metadata, so Dask is running your function on a small dataset to guess output types. It is possible that Dask will guess incorrectly.\n",
      "To provide an explicit output types or to silence this message, please provide the `meta=` keyword, as described in the map or apply function that you are using.\n",
      "  Before: .apply(func)\n",
      "  After:  .apply(func, meta=('Query', 'object'))\n",
      "\n",
      "  warnings.warn(meta_warning(meta))\n",
      "[nltk_data] Downloading package punkt to /Users/tim/nltk_data...\n",
      "[nltk_data] Downloading package punkt to /Users/tim/nltk_data...\n",
      "[nltk_data] Downloading package punkt to /Users/tim/nltk_data...\n",
      "[nltk_data] Downloading package punkt to /Users/tim/nltk_data...\n",
      "[nltk_data]   Package punkt is already up-to-date!\n",
      "[nltk_data]   Package punkt is already up-to-date!\n",
      "[nltk_data]   Package punkt is already up-to-date!\n",
      "[nltk_data]   Package punkt is already up-to-date!\n",
      "[nltk_data] Downloading package stopwords to /Users/tim/nltk_data...\n",
      "[nltk_data] Downloading package stopwords to /Users/tim/nltk_data...\n",
      "[nltk_data] Downloading package stopwords to /Users/tim/nltk_data...\n",
      "[nltk_data] Downloading package stopwords to /Users/tim/nltk_data...\n",
      "[nltk_data]   Package stopwords is already up-to-date!\n",
      "[nltk_data]   Package stopwords is already up-to-date!\n",
      "[nltk_data]   Package stopwords is already up-to-date!\n",
      "[nltk_data]   Package stopwords is already up-to-date!\n",
      "[nltk_data] Downloading package wordnet to /Users/tim/nltk_data...\n",
      "[nltk_data] Downloading package wordnet to /Users/tim/nltk_data...\n",
      "[nltk_data] Downloading package wordnet to /Users/tim/nltk_data...\n",
      "[nltk_data] Downloading package wordnet to /Users/tim/nltk_data...\n",
      "[nltk_data]   Package wordnet is already up-to-date!\n",
      "[nltk_data]   Package wordnet is already up-to-date!\n",
      "[nltk_data]   Package wordnet is already up-to-date!\n",
      "[nltk_data]   Package wordnet is already up-to-date!\n",
      "2022-04-08 16:45:57,652 - distributed.worker - WARNING - Compute Failed\n",
      "Key:       ('assign-ca8d45270b3dfba2f657bd27df6e16cd', 22)\n",
      "Function:  execute_task\n",
      "args:      ((subgraph_callable-b594a633-b75d-4dcb-a803-1faa4bb68491, 'preprocessed', <function Pipeline.preprocess.<locals>._preprocess.<locals>.<lambda> at 0x7fb369900160>, True, (), 'getitem-6ad598903d6d8f03f26dfc4710341ea3', 'Passage', [(<function read_block_from_file at 0x7fb396e8de50>, <OpenFile '/Users/tim/Documents/Universität Mannheim/Semester 4/Information Retrieval Project/Retriever/notebooks/data/TREC_Passage/collection.tsv'>, 1104172012, 50189637, b'\\n'), None, False, False]))\n",
      "kwargs:    {}\n",
      "Exception: 'AttributeError(\"\\'WordListCorpusReader\\' object has no attribute \\'_LazyCorpusLoader__args\\'\")'\n",
      "\n"
     ]
    },
    {
     "ename": "AttributeError",
     "evalue": "'WordListCorpusReader' object has no attribute '_LazyCorpusLoader__args'",
     "output_type": "error",
     "traceback": [
      "\u001B[0;31m---------------------------------------------------------------------------\u001B[0m",
      "\u001B[0;31mAttributeError\u001B[0m                            Traceback (most recent call last)",
      "Input \u001B[0;32mIn [4]\u001B[0m, in \u001B[0;36m<cell line: 1>\u001B[0;34m()\u001B[0m\n\u001B[0;32m----> 1\u001B[0m \u001B[43mpipeline\u001B[49m\u001B[38;5;241;43m.\u001B[39;49m\u001B[43mpreprocess\u001B[49m\u001B[43m(\u001B[49m\u001B[43m)\u001B[49m\n",
      "File \u001B[0;32m~/Documents/Universität Mannheim/Semester 4/Information Retrieval Project/Retriever/src/pipeline.py:70\u001B[0m, in \u001B[0;36mPipeline.preprocess\u001B[0;34m(self)\u001B[0m\n\u001B[1;32m     66\u001B[0m \u001B[38;5;66;03m#self.queries = self.queries.map_partitions(\u001B[39;00m\n\u001B[1;32m     67\u001B[0m \u001B[38;5;66;03m#    (lambda df: df.assign(preprocessed=lambda query: _preprocess(query['Query']))))\u001B[39;00m\n\u001B[1;32m     69\u001B[0m \u001B[38;5;28mself\u001B[39m\u001B[38;5;241m.\u001B[39mpreprocessed \u001B[38;5;241m=\u001B[39m \u001B[38;5;28;01mTrue\u001B[39;00m\n\u001B[0;32m---> 70\u001B[0m \u001B[38;5;28;43mself\u001B[39;49m\u001B[38;5;241;43m.\u001B[39;49m\u001B[43msave\u001B[49m\u001B[43m(\u001B[49m\u001B[43m)\u001B[49m\n",
      "File \u001B[0;32m~/Documents/Universität Mannheim/Semester 4/Information Retrieval Project/Retriever/src/pipeline.py:99\u001B[0m, in \u001B[0;36mPipeline.save\u001B[0;34m(self, path)\u001B[0m\n\u001B[1;32m     97\u001B[0m check_path_exists(path)\n\u001B[1;32m     98\u001B[0m \u001B[38;5;28mself\u001B[39m\u001B[38;5;241m.\u001B[39mqueries\u001B[38;5;241m.\u001B[39mto_csv(os\u001B[38;5;241m.\u001B[39mpath\u001B[38;5;241m.\u001B[39mjoin(path, \u001B[38;5;124m'\u001B[39m\u001B[38;5;124m_\u001B[39m\u001B[38;5;124m'\u001B[39m\u001B[38;5;241m.\u001B[39mjoin(\u001B[38;5;28mself\u001B[39m\u001B[38;5;241m.\u001B[39mqueries\u001B[38;5;241m.\u001B[39mcolumns)))\n\u001B[0;32m---> 99\u001B[0m \u001B[38;5;28;43mself\u001B[39;49m\u001B[38;5;241;43m.\u001B[39;49m\u001B[43mcollection\u001B[49m\u001B[38;5;241;43m.\u001B[39;49m\u001B[43mto_csv\u001B[49m\u001B[43m(\u001B[49m\u001B[43mos\u001B[49m\u001B[38;5;241;43m.\u001B[39;49m\u001B[43mpath\u001B[49m\u001B[38;5;241;43m.\u001B[39;49m\u001B[43mjoin\u001B[49m\u001B[43m(\u001B[49m\u001B[43mpath\u001B[49m\u001B[43m,\u001B[49m\u001B[43m \u001B[49m\u001B[38;5;124;43m'\u001B[39;49m\u001B[38;5;124;43m_\u001B[39;49m\u001B[38;5;124;43m'\u001B[39;49m\u001B[38;5;241;43m.\u001B[39;49m\u001B[43mjoin\u001B[49m\u001B[43m(\u001B[49m\u001B[38;5;28;43mself\u001B[39;49m\u001B[38;5;241;43m.\u001B[39;49m\u001B[43mcollection\u001B[49m\u001B[38;5;241;43m.\u001B[39;49m\u001B[43mcolumns\u001B[49m\u001B[43m)\u001B[49m\u001B[43m)\u001B[49m\u001B[43m)\u001B[49m\n\u001B[1;32m    100\u001B[0m \u001B[38;5;28mself\u001B[39m\u001B[38;5;241m.\u001B[39mfeatures\u001B[38;5;241m.\u001B[39mto_csv(os\u001B[38;5;241m.\u001B[39mpath\u001B[38;5;241m.\u001B[39mjoin(path, \u001B[38;5;124m'\u001B[39m\u001B[38;5;124m_\u001B[39m\u001B[38;5;124m'\u001B[39m\u001B[38;5;241m.\u001B[39mjoin(\u001B[38;5;28mself\u001B[39m\u001B[38;5;241m.\u001B[39mfeatures\u001B[38;5;241m.\u001B[39mcolumns)))\n",
      "File \u001B[0;32m~/opt/anaconda3/envs/inforetrieval/lib/python3.9/site-packages/dask/dataframe/core.py:1640\u001B[0m, in \u001B[0;36m_Frame.to_csv\u001B[0;34m(self, filename, **kwargs)\u001B[0m\n\u001B[1;32m   1637\u001B[0m \u001B[38;5;124;03m\"\"\"See dd.to_csv docstring for more information\"\"\"\u001B[39;00m\n\u001B[1;32m   1638\u001B[0m \u001B[38;5;28;01mfrom\u001B[39;00m \u001B[38;5;21;01mdask\u001B[39;00m\u001B[38;5;21;01m.\u001B[39;00m\u001B[38;5;21;01mdataframe\u001B[39;00m\u001B[38;5;21;01m.\u001B[39;00m\u001B[38;5;21;01mio\u001B[39;00m \u001B[38;5;28;01mimport\u001B[39;00m to_csv\n\u001B[0;32m-> 1640\u001B[0m \u001B[38;5;28;01mreturn\u001B[39;00m \u001B[43mto_csv\u001B[49m\u001B[43m(\u001B[49m\u001B[38;5;28;43mself\u001B[39;49m\u001B[43m,\u001B[49m\u001B[43m \u001B[49m\u001B[43mfilename\u001B[49m\u001B[43m,\u001B[49m\u001B[43m \u001B[49m\u001B[38;5;241;43m*\u001B[39;49m\u001B[38;5;241;43m*\u001B[39;49m\u001B[43mkwargs\u001B[49m\u001B[43m)\u001B[49m\n",
      "File \u001B[0;32m~/opt/anaconda3/envs/inforetrieval/lib/python3.9/site-packages/dask/dataframe/io/csv.py:957\u001B[0m, in \u001B[0;36mto_csv\u001B[0;34m(df, filename, single_file, encoding, mode, name_function, compression, compute, scheduler, storage_options, header_first_partition_only, compute_kwargs, **kwargs)\u001B[0m\n\u001B[1;32m    953\u001B[0m         compute_kwargs[\u001B[38;5;124m\"\u001B[39m\u001B[38;5;124mscheduler\u001B[39m\u001B[38;5;124m\"\u001B[39m] \u001B[38;5;241m=\u001B[39m scheduler\n\u001B[1;32m    955\u001B[0m     \u001B[38;5;28;01mimport\u001B[39;00m \u001B[38;5;21;01mdask\u001B[39;00m\n\u001B[0;32m--> 957\u001B[0m     \u001B[38;5;28;01mreturn\u001B[39;00m \u001B[38;5;28mlist\u001B[39m(\u001B[43mdask\u001B[49m\u001B[38;5;241;43m.\u001B[39;49m\u001B[43mcompute\u001B[49m\u001B[43m(\u001B[49m\u001B[38;5;241;43m*\u001B[39;49m\u001B[43mvalues\u001B[49m\u001B[43m,\u001B[49m\u001B[43m \u001B[49m\u001B[38;5;241;43m*\u001B[39;49m\u001B[38;5;241;43m*\u001B[39;49m\u001B[43mcompute_kwargs\u001B[49m\u001B[43m)\u001B[49m)\n\u001B[1;32m    958\u001B[0m \u001B[38;5;28;01melse\u001B[39;00m:\n\u001B[1;32m    959\u001B[0m     \u001B[38;5;28;01mreturn\u001B[39;00m values\n",
      "File \u001B[0;32m~/opt/anaconda3/envs/inforetrieval/lib/python3.9/site-packages/dask/base.py:575\u001B[0m, in \u001B[0;36mcompute\u001B[0;34m(traverse, optimize_graph, scheduler, get, *args, **kwargs)\u001B[0m\n\u001B[1;32m    572\u001B[0m     keys\u001B[38;5;241m.\u001B[39mappend(x\u001B[38;5;241m.\u001B[39m__dask_keys__())\n\u001B[1;32m    573\u001B[0m     postcomputes\u001B[38;5;241m.\u001B[39mappend(x\u001B[38;5;241m.\u001B[39m__dask_postcompute__())\n\u001B[0;32m--> 575\u001B[0m results \u001B[38;5;241m=\u001B[39m \u001B[43mschedule\u001B[49m\u001B[43m(\u001B[49m\u001B[43mdsk\u001B[49m\u001B[43m,\u001B[49m\u001B[43m \u001B[49m\u001B[43mkeys\u001B[49m\u001B[43m,\u001B[49m\u001B[43m \u001B[49m\u001B[38;5;241;43m*\u001B[39;49m\u001B[38;5;241;43m*\u001B[39;49m\u001B[43mkwargs\u001B[49m\u001B[43m)\u001B[49m\n\u001B[1;32m    576\u001B[0m \u001B[38;5;28;01mreturn\u001B[39;00m repack([f(r, \u001B[38;5;241m*\u001B[39ma) \u001B[38;5;28;01mfor\u001B[39;00m r, (f, a) \u001B[38;5;129;01min\u001B[39;00m \u001B[38;5;28mzip\u001B[39m(results, postcomputes)])\n",
      "File \u001B[0;32m~/opt/anaconda3/envs/inforetrieval/lib/python3.9/site-packages/distributed/client.py:3018\u001B[0m, in \u001B[0;36mClient.get\u001B[0;34m(self, dsk, keys, workers, allow_other_workers, resources, sync, asynchronous, direct, retries, priority, fifo_timeout, actors, **kwargs)\u001B[0m\n\u001B[1;32m   3016\u001B[0m         should_rejoin \u001B[38;5;241m=\u001B[39m \u001B[38;5;28;01mFalse\u001B[39;00m\n\u001B[1;32m   3017\u001B[0m \u001B[38;5;28;01mtry\u001B[39;00m:\n\u001B[0;32m-> 3018\u001B[0m     results \u001B[38;5;241m=\u001B[39m \u001B[38;5;28;43mself\u001B[39;49m\u001B[38;5;241;43m.\u001B[39;49m\u001B[43mgather\u001B[49m\u001B[43m(\u001B[49m\u001B[43mpacked\u001B[49m\u001B[43m,\u001B[49m\u001B[43m \u001B[49m\u001B[43masynchronous\u001B[49m\u001B[38;5;241;43m=\u001B[39;49m\u001B[43masynchronous\u001B[49m\u001B[43m,\u001B[49m\u001B[43m \u001B[49m\u001B[43mdirect\u001B[49m\u001B[38;5;241;43m=\u001B[39;49m\u001B[43mdirect\u001B[49m\u001B[43m)\u001B[49m\n\u001B[1;32m   3019\u001B[0m \u001B[38;5;28;01mfinally\u001B[39;00m:\n\u001B[1;32m   3020\u001B[0m     \u001B[38;5;28;01mfor\u001B[39;00m f \u001B[38;5;129;01min\u001B[39;00m futures\u001B[38;5;241m.\u001B[39mvalues():\n",
      "File \u001B[0;32m~/opt/anaconda3/envs/inforetrieval/lib/python3.9/site-packages/distributed/client.py:2171\u001B[0m, in \u001B[0;36mClient.gather\u001B[0;34m(self, futures, errors, direct, asynchronous)\u001B[0m\n\u001B[1;32m   2169\u001B[0m \u001B[38;5;28;01melse\u001B[39;00m:\n\u001B[1;32m   2170\u001B[0m     local_worker \u001B[38;5;241m=\u001B[39m \u001B[38;5;28;01mNone\u001B[39;00m\n\u001B[0;32m-> 2171\u001B[0m \u001B[38;5;28;01mreturn\u001B[39;00m \u001B[38;5;28;43mself\u001B[39;49m\u001B[38;5;241;43m.\u001B[39;49m\u001B[43msync\u001B[49m\u001B[43m(\u001B[49m\n\u001B[1;32m   2172\u001B[0m \u001B[43m    \u001B[49m\u001B[38;5;28;43mself\u001B[39;49m\u001B[38;5;241;43m.\u001B[39;49m\u001B[43m_gather\u001B[49m\u001B[43m,\u001B[49m\n\u001B[1;32m   2173\u001B[0m \u001B[43m    \u001B[49m\u001B[43mfutures\u001B[49m\u001B[43m,\u001B[49m\n\u001B[1;32m   2174\u001B[0m \u001B[43m    \u001B[49m\u001B[43merrors\u001B[49m\u001B[38;5;241;43m=\u001B[39;49m\u001B[43merrors\u001B[49m\u001B[43m,\u001B[49m\n\u001B[1;32m   2175\u001B[0m \u001B[43m    \u001B[49m\u001B[43mdirect\u001B[49m\u001B[38;5;241;43m=\u001B[39;49m\u001B[43mdirect\u001B[49m\u001B[43m,\u001B[49m\n\u001B[1;32m   2176\u001B[0m \u001B[43m    \u001B[49m\u001B[43mlocal_worker\u001B[49m\u001B[38;5;241;43m=\u001B[39;49m\u001B[43mlocal_worker\u001B[49m\u001B[43m,\u001B[49m\n\u001B[1;32m   2177\u001B[0m \u001B[43m    \u001B[49m\u001B[43masynchronous\u001B[49m\u001B[38;5;241;43m=\u001B[39;49m\u001B[43masynchronous\u001B[49m\u001B[43m,\u001B[49m\n\u001B[1;32m   2178\u001B[0m \u001B[43m\u001B[49m\u001B[43m)\u001B[49m\n",
      "File \u001B[0;32m~/opt/anaconda3/envs/inforetrieval/lib/python3.9/site-packages/distributed/utils.py:309\u001B[0m, in \u001B[0;36mSyncMethodMixin.sync\u001B[0;34m(self, func, asynchronous, callback_timeout, *args, **kwargs)\u001B[0m\n\u001B[1;32m    307\u001B[0m     \u001B[38;5;28;01mreturn\u001B[39;00m future\n\u001B[1;32m    308\u001B[0m \u001B[38;5;28;01melse\u001B[39;00m:\n\u001B[0;32m--> 309\u001B[0m     \u001B[38;5;28;01mreturn\u001B[39;00m \u001B[43msync\u001B[49m\u001B[43m(\u001B[49m\n\u001B[1;32m    310\u001B[0m \u001B[43m        \u001B[49m\u001B[38;5;28;43mself\u001B[39;49m\u001B[38;5;241;43m.\u001B[39;49m\u001B[43mloop\u001B[49m\u001B[43m,\u001B[49m\u001B[43m \u001B[49m\u001B[43mfunc\u001B[49m\u001B[43m,\u001B[49m\u001B[43m \u001B[49m\u001B[38;5;241;43m*\u001B[39;49m\u001B[43margs\u001B[49m\u001B[43m,\u001B[49m\u001B[43m \u001B[49m\u001B[43mcallback_timeout\u001B[49m\u001B[38;5;241;43m=\u001B[39;49m\u001B[43mcallback_timeout\u001B[49m\u001B[43m,\u001B[49m\u001B[43m \u001B[49m\u001B[38;5;241;43m*\u001B[39;49m\u001B[38;5;241;43m*\u001B[39;49m\u001B[43mkwargs\u001B[49m\n\u001B[1;32m    311\u001B[0m \u001B[43m    \u001B[49m\u001B[43m)\u001B[49m\n",
      "File \u001B[0;32m~/opt/anaconda3/envs/inforetrieval/lib/python3.9/site-packages/distributed/utils.py:376\u001B[0m, in \u001B[0;36msync\u001B[0;34m(loop, func, callback_timeout, *args, **kwargs)\u001B[0m\n\u001B[1;32m    374\u001B[0m \u001B[38;5;28;01mif\u001B[39;00m error:\n\u001B[1;32m    375\u001B[0m     typ, exc, tb \u001B[38;5;241m=\u001B[39m error\n\u001B[0;32m--> 376\u001B[0m     \u001B[38;5;28;01mraise\u001B[39;00m exc\u001B[38;5;241m.\u001B[39mwith_traceback(tb)\n\u001B[1;32m    377\u001B[0m \u001B[38;5;28;01melse\u001B[39;00m:\n\u001B[1;32m    378\u001B[0m     \u001B[38;5;28;01mreturn\u001B[39;00m result\n",
      "File \u001B[0;32m~/opt/anaconda3/envs/inforetrieval/lib/python3.9/site-packages/distributed/utils.py:349\u001B[0m, in \u001B[0;36msync.<locals>.f\u001B[0;34m()\u001B[0m\n\u001B[1;32m    347\u001B[0m         future \u001B[38;5;241m=\u001B[39m asyncio\u001B[38;5;241m.\u001B[39mwait_for(future, callback_timeout)\n\u001B[1;32m    348\u001B[0m     future \u001B[38;5;241m=\u001B[39m asyncio\u001B[38;5;241m.\u001B[39mensure_future(future)\n\u001B[0;32m--> 349\u001B[0m     result \u001B[38;5;241m=\u001B[39m \u001B[38;5;28;01myield\u001B[39;00m future\n\u001B[1;32m    350\u001B[0m \u001B[38;5;28;01mexcept\u001B[39;00m \u001B[38;5;167;01mException\u001B[39;00m:\n\u001B[1;32m    351\u001B[0m     error \u001B[38;5;241m=\u001B[39m sys\u001B[38;5;241m.\u001B[39mexc_info()\n",
      "File \u001B[0;32m~/opt/anaconda3/envs/inforetrieval/lib/python3.9/site-packages/tornado/gen.py:762\u001B[0m, in \u001B[0;36mRunner.run\u001B[0;34m(self)\u001B[0m\n\u001B[1;32m    759\u001B[0m exc_info \u001B[38;5;241m=\u001B[39m \u001B[38;5;28;01mNone\u001B[39;00m\n\u001B[1;32m    761\u001B[0m \u001B[38;5;28;01mtry\u001B[39;00m:\n\u001B[0;32m--> 762\u001B[0m     value \u001B[38;5;241m=\u001B[39m \u001B[43mfuture\u001B[49m\u001B[38;5;241;43m.\u001B[39;49m\u001B[43mresult\u001B[49m\u001B[43m(\u001B[49m\u001B[43m)\u001B[49m\n\u001B[1;32m    763\u001B[0m \u001B[38;5;28;01mexcept\u001B[39;00m \u001B[38;5;167;01mException\u001B[39;00m:\n\u001B[1;32m    764\u001B[0m     exc_info \u001B[38;5;241m=\u001B[39m sys\u001B[38;5;241m.\u001B[39mexc_info()\n",
      "File \u001B[0;32m~/opt/anaconda3/envs/inforetrieval/lib/python3.9/site-packages/distributed/client.py:2034\u001B[0m, in \u001B[0;36mClient._gather\u001B[0;34m(self, futures, errors, direct, local_worker)\u001B[0m\n\u001B[1;32m   2032\u001B[0m         exc \u001B[38;5;241m=\u001B[39m CancelledError(key)\n\u001B[1;32m   2033\u001B[0m     \u001B[38;5;28;01melse\u001B[39;00m:\n\u001B[0;32m-> 2034\u001B[0m         \u001B[38;5;28;01mraise\u001B[39;00m exception\u001B[38;5;241m.\u001B[39mwith_traceback(traceback)\n\u001B[1;32m   2035\u001B[0m     \u001B[38;5;28;01mraise\u001B[39;00m exc\n\u001B[1;32m   2036\u001B[0m \u001B[38;5;28;01mif\u001B[39;00m errors \u001B[38;5;241m==\u001B[39m \u001B[38;5;124m\"\u001B[39m\u001B[38;5;124mskip\u001B[39m\u001B[38;5;124m\"\u001B[39m:\n",
      "File \u001B[0;32m~/opt/anaconda3/envs/inforetrieval/lib/python3.9/site-packages/dask/optimization.py:990\u001B[0m, in \u001B[0;36m__call__\u001B[0;34m()\u001B[0m\n\u001B[1;32m    988\u001B[0m \u001B[38;5;28;01mif\u001B[39;00m \u001B[38;5;129;01mnot\u001B[39;00m \u001B[38;5;28mlen\u001B[39m(args) \u001B[38;5;241m==\u001B[39m \u001B[38;5;28mlen\u001B[39m(\u001B[38;5;28mself\u001B[39m\u001B[38;5;241m.\u001B[39minkeys):\n\u001B[1;32m    989\u001B[0m     \u001B[38;5;28;01mraise\u001B[39;00m \u001B[38;5;167;01mValueError\u001B[39;00m(\u001B[38;5;124m\"\u001B[39m\u001B[38;5;124mExpected \u001B[39m\u001B[38;5;132;01m%d\u001B[39;00m\u001B[38;5;124m args, got \u001B[39m\u001B[38;5;132;01m%d\u001B[39;00m\u001B[38;5;124m\"\u001B[39m \u001B[38;5;241m%\u001B[39m (\u001B[38;5;28mlen\u001B[39m(\u001B[38;5;28mself\u001B[39m\u001B[38;5;241m.\u001B[39minkeys), \u001B[38;5;28mlen\u001B[39m(args)))\n\u001B[0;32m--> 990\u001B[0m \u001B[38;5;28;01mreturn\u001B[39;00m core\u001B[38;5;241m.\u001B[39mget(\u001B[38;5;28mself\u001B[39m\u001B[38;5;241m.\u001B[39mdsk, \u001B[38;5;28mself\u001B[39m\u001B[38;5;241m.\u001B[39moutkey, \u001B[38;5;28mdict\u001B[39m(\u001B[38;5;28mzip\u001B[39m(\u001B[38;5;28mself\u001B[39m\u001B[38;5;241m.\u001B[39minkeys, args)))\n",
      "File \u001B[0;32m~/opt/anaconda3/envs/inforetrieval/lib/python3.9/site-packages/dask/core.py:149\u001B[0m, in \u001B[0;36mget\u001B[0;34m()\u001B[0m\n\u001B[1;32m    147\u001B[0m \u001B[38;5;28;01mfor\u001B[39;00m key \u001B[38;5;129;01min\u001B[39;00m toposort(dsk):\n\u001B[1;32m    148\u001B[0m     task \u001B[38;5;241m=\u001B[39m dsk[key]\n\u001B[0;32m--> 149\u001B[0m     result \u001B[38;5;241m=\u001B[39m _execute_task(task, cache)\n\u001B[1;32m    150\u001B[0m     cache[key] \u001B[38;5;241m=\u001B[39m result\n\u001B[1;32m    151\u001B[0m result \u001B[38;5;241m=\u001B[39m _execute_task(out, cache)\n",
      "File \u001B[0;32m~/opt/anaconda3/envs/inforetrieval/lib/python3.9/site-packages/dask/core.py:119\u001B[0m, in \u001B[0;36m_execute_task\u001B[0;34m()\u001B[0m\n\u001B[1;32m    115\u001B[0m     func, args \u001B[38;5;241m=\u001B[39m arg[\u001B[38;5;241m0\u001B[39m], arg[\u001B[38;5;241m1\u001B[39m:]\n\u001B[1;32m    116\u001B[0m     \u001B[38;5;66;03m# Note: Don't assign the subtask results to a variable. numpy detects\u001B[39;00m\n\u001B[1;32m    117\u001B[0m     \u001B[38;5;66;03m# temporaries by their reference count and can execute certain\u001B[39;00m\n\u001B[1;32m    118\u001B[0m     \u001B[38;5;66;03m# operations in-place.\u001B[39;00m\n\u001B[0;32m--> 119\u001B[0m     \u001B[38;5;28;01mreturn\u001B[39;00m func(\u001B[38;5;241m*\u001B[39m(_execute_task(a, cache) \u001B[38;5;28;01mfor\u001B[39;00m a \u001B[38;5;129;01min\u001B[39;00m args))\n\u001B[1;32m    120\u001B[0m \u001B[38;5;28;01melif\u001B[39;00m \u001B[38;5;129;01mnot\u001B[39;00m ishashable(arg):\n\u001B[1;32m    121\u001B[0m     \u001B[38;5;28;01mreturn\u001B[39;00m arg\n",
      "File \u001B[0;32m~/opt/anaconda3/envs/inforetrieval/lib/python3.9/site-packages/dask/core.py:119\u001B[0m, in \u001B[0;36m<genexpr>\u001B[0;34m()\u001B[0m\n\u001B[1;32m    115\u001B[0m     func, args \u001B[38;5;241m=\u001B[39m arg[\u001B[38;5;241m0\u001B[39m], arg[\u001B[38;5;241m1\u001B[39m:]\n\u001B[1;32m    116\u001B[0m     \u001B[38;5;66;03m# Note: Don't assign the subtask results to a variable. numpy detects\u001B[39;00m\n\u001B[1;32m    117\u001B[0m     \u001B[38;5;66;03m# temporaries by their reference count and can execute certain\u001B[39;00m\n\u001B[1;32m    118\u001B[0m     \u001B[38;5;66;03m# operations in-place.\u001B[39;00m\n\u001B[0;32m--> 119\u001B[0m     \u001B[38;5;28;01mreturn\u001B[39;00m func(\u001B[38;5;241m*\u001B[39m(_execute_task(a, cache) \u001B[38;5;28;01mfor\u001B[39;00m a \u001B[38;5;129;01min\u001B[39;00m args))\n\u001B[1;32m    120\u001B[0m \u001B[38;5;28;01melif\u001B[39;00m \u001B[38;5;129;01mnot\u001B[39;00m ishashable(arg):\n\u001B[1;32m    121\u001B[0m     \u001B[38;5;28;01mreturn\u001B[39;00m arg\n",
      "File \u001B[0;32m~/opt/anaconda3/envs/inforetrieval/lib/python3.9/site-packages/dask/core.py:119\u001B[0m, in \u001B[0;36m_execute_task\u001B[0;34m()\u001B[0m\n\u001B[1;32m    115\u001B[0m     func, args \u001B[38;5;241m=\u001B[39m arg[\u001B[38;5;241m0\u001B[39m], arg[\u001B[38;5;241m1\u001B[39m:]\n\u001B[1;32m    116\u001B[0m     \u001B[38;5;66;03m# Note: Don't assign the subtask results to a variable. numpy detects\u001B[39;00m\n\u001B[1;32m    117\u001B[0m     \u001B[38;5;66;03m# temporaries by their reference count and can execute certain\u001B[39;00m\n\u001B[1;32m    118\u001B[0m     \u001B[38;5;66;03m# operations in-place.\u001B[39;00m\n\u001B[0;32m--> 119\u001B[0m     \u001B[38;5;28;01mreturn\u001B[39;00m func(\u001B[38;5;241m*\u001B[39m(_execute_task(a, cache) \u001B[38;5;28;01mfor\u001B[39;00m a \u001B[38;5;129;01min\u001B[39;00m args))\n\u001B[1;32m    120\u001B[0m \u001B[38;5;28;01melif\u001B[39;00m \u001B[38;5;129;01mnot\u001B[39;00m ishashable(arg):\n\u001B[1;32m    121\u001B[0m     \u001B[38;5;28;01mreturn\u001B[39;00m arg\n",
      "File \u001B[0;32m~/opt/anaconda3/envs/inforetrieval/lib/python3.9/site-packages/dask/core.py:119\u001B[0m, in \u001B[0;36m<genexpr>\u001B[0;34m()\u001B[0m\n\u001B[1;32m    115\u001B[0m     func, args \u001B[38;5;241m=\u001B[39m arg[\u001B[38;5;241m0\u001B[39m], arg[\u001B[38;5;241m1\u001B[39m:]\n\u001B[1;32m    116\u001B[0m     \u001B[38;5;66;03m# Note: Don't assign the subtask results to a variable. numpy detects\u001B[39;00m\n\u001B[1;32m    117\u001B[0m     \u001B[38;5;66;03m# temporaries by their reference count and can execute certain\u001B[39;00m\n\u001B[1;32m    118\u001B[0m     \u001B[38;5;66;03m# operations in-place.\u001B[39;00m\n\u001B[0;32m--> 119\u001B[0m     \u001B[38;5;28;01mreturn\u001B[39;00m func(\u001B[38;5;241m*\u001B[39m(_execute_task(a, cache) \u001B[38;5;28;01mfor\u001B[39;00m a \u001B[38;5;129;01min\u001B[39;00m args))\n\u001B[1;32m    120\u001B[0m \u001B[38;5;28;01melif\u001B[39;00m \u001B[38;5;129;01mnot\u001B[39;00m ishashable(arg):\n\u001B[1;32m    121\u001B[0m     \u001B[38;5;28;01mreturn\u001B[39;00m arg\n",
      "File \u001B[0;32m~/opt/anaconda3/envs/inforetrieval/lib/python3.9/site-packages/dask/core.py:119\u001B[0m, in \u001B[0;36m_execute_task\u001B[0;34m()\u001B[0m\n\u001B[1;32m    115\u001B[0m     func, args \u001B[38;5;241m=\u001B[39m arg[\u001B[38;5;241m0\u001B[39m], arg[\u001B[38;5;241m1\u001B[39m:]\n\u001B[1;32m    116\u001B[0m     \u001B[38;5;66;03m# Note: Don't assign the subtask results to a variable. numpy detects\u001B[39;00m\n\u001B[1;32m    117\u001B[0m     \u001B[38;5;66;03m# temporaries by their reference count and can execute certain\u001B[39;00m\n\u001B[1;32m    118\u001B[0m     \u001B[38;5;66;03m# operations in-place.\u001B[39;00m\n\u001B[0;32m--> 119\u001B[0m     \u001B[38;5;28;01mreturn\u001B[39;00m func(\u001B[38;5;241m*\u001B[39m(_execute_task(a, cache) \u001B[38;5;28;01mfor\u001B[39;00m a \u001B[38;5;129;01min\u001B[39;00m args))\n\u001B[1;32m    120\u001B[0m \u001B[38;5;28;01melif\u001B[39;00m \u001B[38;5;129;01mnot\u001B[39;00m ishashable(arg):\n\u001B[1;32m    121\u001B[0m     \u001B[38;5;28;01mreturn\u001B[39;00m arg\n",
      "File \u001B[0;32m~/opt/anaconda3/envs/inforetrieval/lib/python3.9/site-packages/dask/core.py:119\u001B[0m, in \u001B[0;36m<genexpr>\u001B[0;34m()\u001B[0m\n\u001B[1;32m    115\u001B[0m     func, args \u001B[38;5;241m=\u001B[39m arg[\u001B[38;5;241m0\u001B[39m], arg[\u001B[38;5;241m1\u001B[39m:]\n\u001B[1;32m    116\u001B[0m     \u001B[38;5;66;03m# Note: Don't assign the subtask results to a variable. numpy detects\u001B[39;00m\n\u001B[1;32m    117\u001B[0m     \u001B[38;5;66;03m# temporaries by their reference count and can execute certain\u001B[39;00m\n\u001B[1;32m    118\u001B[0m     \u001B[38;5;66;03m# operations in-place.\u001B[39;00m\n\u001B[0;32m--> 119\u001B[0m     \u001B[38;5;28;01mreturn\u001B[39;00m func(\u001B[38;5;241m*\u001B[39m(_execute_task(a, cache) \u001B[38;5;28;01mfor\u001B[39;00m a \u001B[38;5;129;01min\u001B[39;00m args))\n\u001B[1;32m    120\u001B[0m \u001B[38;5;28;01melif\u001B[39;00m \u001B[38;5;129;01mnot\u001B[39;00m ishashable(arg):\n\u001B[1;32m    121\u001B[0m     \u001B[38;5;28;01mreturn\u001B[39;00m arg\n",
      "File \u001B[0;32m~/opt/anaconda3/envs/inforetrieval/lib/python3.9/site-packages/dask/core.py:119\u001B[0m, in \u001B[0;36m_execute_task\u001B[0;34m()\u001B[0m\n\u001B[1;32m    115\u001B[0m     func, args \u001B[38;5;241m=\u001B[39m arg[\u001B[38;5;241m0\u001B[39m], arg[\u001B[38;5;241m1\u001B[39m:]\n\u001B[1;32m    116\u001B[0m     \u001B[38;5;66;03m# Note: Don't assign the subtask results to a variable. numpy detects\u001B[39;00m\n\u001B[1;32m    117\u001B[0m     \u001B[38;5;66;03m# temporaries by their reference count and can execute certain\u001B[39;00m\n\u001B[1;32m    118\u001B[0m     \u001B[38;5;66;03m# operations in-place.\u001B[39;00m\n\u001B[0;32m--> 119\u001B[0m     \u001B[38;5;28;01mreturn\u001B[39;00m func(\u001B[38;5;241m*\u001B[39m(_execute_task(a, cache) \u001B[38;5;28;01mfor\u001B[39;00m a \u001B[38;5;129;01min\u001B[39;00m args))\n\u001B[1;32m    120\u001B[0m \u001B[38;5;28;01melif\u001B[39;00m \u001B[38;5;129;01mnot\u001B[39;00m ishashable(arg):\n\u001B[1;32m    121\u001B[0m     \u001B[38;5;28;01mreturn\u001B[39;00m arg\n",
      "File \u001B[0;32m~/opt/anaconda3/envs/inforetrieval/lib/python3.9/site-packages/dask/utils.py:39\u001B[0m, in \u001B[0;36mapply\u001B[0;34m()\u001B[0m\n\u001B[1;32m     37\u001B[0m \u001B[38;5;28;01mdef\u001B[39;00m \u001B[38;5;21mapply\u001B[39m(func, args, kwargs\u001B[38;5;241m=\u001B[39m\u001B[38;5;28;01mNone\u001B[39;00m):\n\u001B[1;32m     38\u001B[0m     \u001B[38;5;28;01mif\u001B[39;00m kwargs:\n\u001B[0;32m---> 39\u001B[0m         \u001B[38;5;28;01mreturn\u001B[39;00m func(\u001B[38;5;241m*\u001B[39margs, \u001B[38;5;241m*\u001B[39m\u001B[38;5;241m*\u001B[39mkwargs)\n\u001B[1;32m     40\u001B[0m     \u001B[38;5;28;01melse\u001B[39;00m:\n\u001B[1;32m     41\u001B[0m         \u001B[38;5;28;01mreturn\u001B[39;00m func(\u001B[38;5;241m*\u001B[39margs)\n",
      "File \u001B[0;32m~/opt/anaconda3/envs/inforetrieval/lib/python3.9/site-packages/dask/dataframe/core.py:6350\u001B[0m, in \u001B[0;36mapply_and_enforce\u001B[0;34m()\u001B[0m\n\u001B[1;32m   6348\u001B[0m func \u001B[38;5;241m=\u001B[39m kwargs\u001B[38;5;241m.\u001B[39mpop(\u001B[38;5;124m\"\u001B[39m\u001B[38;5;124m_func\u001B[39m\u001B[38;5;124m\"\u001B[39m)\n\u001B[1;32m   6349\u001B[0m meta \u001B[38;5;241m=\u001B[39m kwargs\u001B[38;5;241m.\u001B[39mpop(\u001B[38;5;124m\"\u001B[39m\u001B[38;5;124m_meta\u001B[39m\u001B[38;5;124m\"\u001B[39m)\n\u001B[0;32m-> 6350\u001B[0m df \u001B[38;5;241m=\u001B[39m func(\u001B[38;5;241m*\u001B[39margs, \u001B[38;5;241m*\u001B[39m\u001B[38;5;241m*\u001B[39mkwargs)\n\u001B[1;32m   6351\u001B[0m \u001B[38;5;28;01mif\u001B[39;00m is_dataframe_like(df) \u001B[38;5;129;01mor\u001B[39;00m is_series_like(df) \u001B[38;5;129;01mor\u001B[39;00m is_index_like(df):\n\u001B[1;32m   6352\u001B[0m     \u001B[38;5;28;01mif\u001B[39;00m \u001B[38;5;129;01mnot\u001B[39;00m \u001B[38;5;28mlen\u001B[39m(df):\n",
      "File \u001B[0;32m~/opt/anaconda3/envs/inforetrieval/lib/python3.9/site-packages/dask/utils.py:1021\u001B[0m, in \u001B[0;36m__call__\u001B[0;34m()\u001B[0m\n\u001B[1;32m   1020\u001B[0m \u001B[38;5;28;01mdef\u001B[39;00m \u001B[38;5;21m__call__\u001B[39m(\u001B[38;5;28mself\u001B[39m, __obj, \u001B[38;5;241m*\u001B[39margs, \u001B[38;5;241m*\u001B[39m\u001B[38;5;241m*\u001B[39mkwargs):\n\u001B[0;32m-> 1021\u001B[0m     \u001B[38;5;28;01mreturn\u001B[39;00m \u001B[38;5;28mgetattr\u001B[39m(__obj, \u001B[38;5;28mself\u001B[39m\u001B[38;5;241m.\u001B[39mmethod)(\u001B[38;5;241m*\u001B[39margs, \u001B[38;5;241m*\u001B[39m\u001B[38;5;241m*\u001B[39mkwargs)\n",
      "File \u001B[0;32m~/opt/anaconda3/envs/inforetrieval/lib/python3.9/site-packages/pandas/core/series.py:4433\u001B[0m, in \u001B[0;36mapply\u001B[0;34m()\u001B[0m\n\u001B[1;32m   4323\u001B[0m \u001B[38;5;28;01mdef\u001B[39;00m \u001B[38;5;21mapply\u001B[39m(\n\u001B[1;32m   4324\u001B[0m     \u001B[38;5;28mself\u001B[39m,\n\u001B[1;32m   4325\u001B[0m     func: AggFuncType,\n\u001B[0;32m   (...)\u001B[0m\n\u001B[1;32m   4328\u001B[0m     \u001B[38;5;241m*\u001B[39m\u001B[38;5;241m*\u001B[39mkwargs,\n\u001B[1;32m   4329\u001B[0m ) \u001B[38;5;241m-\u001B[39m\u001B[38;5;241m>\u001B[39m DataFrame \u001B[38;5;241m|\u001B[39m Series:\n\u001B[1;32m   4330\u001B[0m     \u001B[38;5;124;03m\"\"\"\u001B[39;00m\n\u001B[1;32m   4331\u001B[0m \u001B[38;5;124;03m    Invoke function on values of Series.\u001B[39;00m\n\u001B[1;32m   4332\u001B[0m \n\u001B[0;32m   (...)\u001B[0m\n\u001B[1;32m   4431\u001B[0m \u001B[38;5;124;03m    dtype: float64\u001B[39;00m\n\u001B[1;32m   4432\u001B[0m \u001B[38;5;124;03m    \"\"\"\u001B[39;00m\n\u001B[0;32m-> 4433\u001B[0m     \u001B[38;5;28;01mreturn\u001B[39;00m SeriesApply(\u001B[38;5;28mself\u001B[39m, func, convert_dtype, args, kwargs)\u001B[38;5;241m.\u001B[39mapply()\n",
      "File \u001B[0;32m~/opt/anaconda3/envs/inforetrieval/lib/python3.9/site-packages/pandas/core/apply.py:1082\u001B[0m, in \u001B[0;36mapply\u001B[0;34m()\u001B[0m\n\u001B[1;32m   1078\u001B[0m \u001B[38;5;28;01mif\u001B[39;00m \u001B[38;5;28misinstance\u001B[39m(\u001B[38;5;28mself\u001B[39m\u001B[38;5;241m.\u001B[39mf, \u001B[38;5;28mstr\u001B[39m):\n\u001B[1;32m   1079\u001B[0m     \u001B[38;5;66;03m# if we are a string, try to dispatch\u001B[39;00m\n\u001B[1;32m   1080\u001B[0m     \u001B[38;5;28;01mreturn\u001B[39;00m \u001B[38;5;28mself\u001B[39m\u001B[38;5;241m.\u001B[39mapply_str()\n\u001B[0;32m-> 1082\u001B[0m \u001B[38;5;28;01mreturn\u001B[39;00m \u001B[38;5;28mself\u001B[39m\u001B[38;5;241m.\u001B[39mapply_standard()\n",
      "File \u001B[0;32m~/opt/anaconda3/envs/inforetrieval/lib/python3.9/site-packages/pandas/core/apply.py:1137\u001B[0m, in \u001B[0;36mapply_standard\u001B[0;34m()\u001B[0m\n\u001B[1;32m   1131\u001B[0m         values \u001B[38;5;241m=\u001B[39m obj\u001B[38;5;241m.\u001B[39mastype(\u001B[38;5;28mobject\u001B[39m)\u001B[38;5;241m.\u001B[39m_values\n\u001B[1;32m   1132\u001B[0m         \u001B[38;5;66;03m# error: Argument 2 to \"map_infer\" has incompatible type\u001B[39;00m\n\u001B[1;32m   1133\u001B[0m         \u001B[38;5;66;03m# \"Union[Callable[..., Any], str, List[Union[Callable[..., Any], str]],\u001B[39;00m\n\u001B[1;32m   1134\u001B[0m         \u001B[38;5;66;03m# Dict[Hashable, Union[Union[Callable[..., Any], str],\u001B[39;00m\n\u001B[1;32m   1135\u001B[0m         \u001B[38;5;66;03m# List[Union[Callable[..., Any], str]]]]]\"; expected\u001B[39;00m\n\u001B[1;32m   1136\u001B[0m         \u001B[38;5;66;03m# \"Callable[[Any], Any]\"\u001B[39;00m\n\u001B[0;32m-> 1137\u001B[0m         mapped \u001B[38;5;241m=\u001B[39m lib\u001B[38;5;241m.\u001B[39mmap_infer(\n\u001B[1;32m   1138\u001B[0m             values,\n\u001B[1;32m   1139\u001B[0m             f,  \u001B[38;5;66;03m# type: ignore[arg-type]\u001B[39;00m\n\u001B[1;32m   1140\u001B[0m             convert\u001B[38;5;241m=\u001B[39m\u001B[38;5;28mself\u001B[39m\u001B[38;5;241m.\u001B[39mconvert_dtype,\n\u001B[1;32m   1141\u001B[0m         )\n\u001B[1;32m   1143\u001B[0m \u001B[38;5;28;01mif\u001B[39;00m \u001B[38;5;28mlen\u001B[39m(mapped) \u001B[38;5;129;01mand\u001B[39;00m \u001B[38;5;28misinstance\u001B[39m(mapped[\u001B[38;5;241m0\u001B[39m], ABCSeries):\n\u001B[1;32m   1144\u001B[0m     \u001B[38;5;66;03m# GH#43986 Need to do list(mapped) in order to get treated as nested\u001B[39;00m\n\u001B[1;32m   1145\u001B[0m     \u001B[38;5;66;03m#  See also GH#25959 regarding EA support\u001B[39;00m\n\u001B[1;32m   1146\u001B[0m     \u001B[38;5;28;01mreturn\u001B[39;00m obj\u001B[38;5;241m.\u001B[39m_constructor_expanddim(\u001B[38;5;28mlist\u001B[39m(mapped), index\u001B[38;5;241m=\u001B[39mobj\u001B[38;5;241m.\u001B[39mindex)\n",
      "File \u001B[0;32m~/opt/anaconda3/envs/inforetrieval/lib/python3.9/site-packages/pandas/_libs/lib.pyx:2870\u001B[0m, in \u001B[0;36mpandas._libs.lib.map_infer\u001B[0;34m()\u001B[0m\n\u001B[1;32m   2868\u001B[0m     result[i] = arr[i]\n\u001B[1;32m   2869\u001B[0m     continue\n\u001B[0;32m-> 2870\u001B[0m val = f(arr[i])\n\u001B[1;32m   2871\u001B[0m \n\u001B[1;32m   2872\u001B[0m if cnp.PyArray_IsZeroDim(val):\n",
      "File \u001B[0;32m~/Documents/Universität Mannheim/Semester 4/Information Retrieval Project/Retriever/src/pipeline.py:56\u001B[0m, in \u001B[0;36m<lambda>\u001B[0;34m()\u001B[0m\n\u001B[1;32m     53\u001B[0m \u001B[38;5;28;01mdef\u001B[39;00m \u001B[38;5;21m_preprocess\u001B[39m(df):\n\u001B[1;32m     54\u001B[0m     \u001B[38;5;28;01mreturn\u001B[39;00m df\u001B[38;5;241m.\u001B[39mapply(\u001B[38;5;28;01mlambda\u001B[39;00m text: np\u001B[38;5;241m.\u001B[39marray(\n\u001B[1;32m     55\u001B[0m         stemming(\n\u001B[0;32m---> 56\u001B[0m             removal(\n\u001B[1;32m     57\u001B[0m                 tokenization(text)\n\u001B[1;32m     58\u001B[0m             ))))\n",
      "File \u001B[0;32m~/Documents/Universität Mannheim/Semester 4/Information Retrieval Project/Retriever/src/preprocessing/preprocessing.py:18\u001B[0m, in \u001B[0;36mremoval\u001B[0;34m()\u001B[0m\n\u001B[1;32m     17\u001B[0m \u001B[38;5;28;01mdef\u001B[39;00m \u001B[38;5;21mremoval\u001B[39m(tokens: pd\u001B[38;5;241m.\u001B[39mSeries):\n\u001B[0;32m---> 18\u001B[0m     stopwords_list \u001B[38;5;241m=\u001B[39m stopwords\u001B[38;5;241m.\u001B[39mwords(\u001B[38;5;124m\"\u001B[39m\u001B[38;5;124menglish\u001B[39m\u001B[38;5;124m\"\u001B[39m)\n\u001B[1;32m     20\u001B[0m     tokens \u001B[38;5;241m=\u001B[39m tokens\u001B[38;5;241m.\u001B[39mapply(\u001B[38;5;28;01mlambda\u001B[39;00m token: token\u001B[38;5;241m.\u001B[39mtranslate(\u001B[38;5;28mstr\u001B[39m\u001B[38;5;241m.\u001B[39mmaketrans(\u001B[38;5;124m'\u001B[39m\u001B[38;5;124m'\u001B[39m, \u001B[38;5;124m'\u001B[39m\u001B[38;5;124m'\u001B[39m, string\u001B[38;5;241m.\u001B[39mpunctuation)))\n\u001B[1;32m     21\u001B[0m     tokens \u001B[38;5;241m=\u001B[39m tokens\u001B[38;5;241m.\u001B[39mapply(\u001B[38;5;28;01mlambda\u001B[39;00m token: token \u001B[38;5;28;01mif\u001B[39;00m token \u001B[38;5;129;01mnot\u001B[39;00m \u001B[38;5;129;01min\u001B[39;00m stopwords_list \u001B[38;5;129;01mand\u001B[39;00m token \u001B[38;5;241m!=\u001B[39m \u001B[38;5;124m'\u001B[39m\u001B[38;5;124m'\u001B[39m \u001B[38;5;28;01melse\u001B[39;00m \u001B[38;5;28;01mNone\u001B[39;00m)\u001B[38;5;241m.\u001B[39mdropna()\n",
      "File \u001B[0;32m~/opt/anaconda3/envs/inforetrieval/lib/python3.9/site-packages/nltk/corpus/util.py:121\u001B[0m, in \u001B[0;36m__getattr__\u001B[0;34m()\u001B[0m\n\u001B[1;32m    118\u001B[0m \u001B[38;5;28;01mif\u001B[39;00m attr \u001B[38;5;241m==\u001B[39m \u001B[38;5;124m\"\u001B[39m\u001B[38;5;124m__bases__\u001B[39m\u001B[38;5;124m\"\u001B[39m:\n\u001B[1;32m    119\u001B[0m     \u001B[38;5;28;01mraise\u001B[39;00m \u001B[38;5;167;01mAttributeError\u001B[39;00m(\u001B[38;5;124m\"\u001B[39m\u001B[38;5;124mLazyCorpusLoader object has no attribute \u001B[39m\u001B[38;5;124m'\u001B[39m\u001B[38;5;124m__bases__\u001B[39m\u001B[38;5;124m'\u001B[39m\u001B[38;5;124m\"\u001B[39m)\n\u001B[0;32m--> 121\u001B[0m \u001B[38;5;28mself\u001B[39m\u001B[38;5;241m.\u001B[39m__load()\n\u001B[1;32m    122\u001B[0m \u001B[38;5;66;03m# This looks circular, but its not, since __load() changes our\u001B[39;00m\n\u001B[1;32m    123\u001B[0m \u001B[38;5;66;03m# __class__ to something new:\u001B[39;00m\n\u001B[1;32m    124\u001B[0m \u001B[38;5;28;01mreturn\u001B[39;00m \u001B[38;5;28mgetattr\u001B[39m(\u001B[38;5;28mself\u001B[39m, attr)\n",
      "File \u001B[0;32m~/opt/anaconda3/envs/inforetrieval/lib/python3.9/site-packages/nltk/corpus/util.py:95\u001B[0m, in \u001B[0;36m__load\u001B[0;34m()\u001B[0m\n\u001B[1;32m     89\u001B[0m corpus \u001B[38;5;241m=\u001B[39m \u001B[38;5;28mself\u001B[39m\u001B[38;5;241m.\u001B[39m__reader_cls(root, \u001B[38;5;241m*\u001B[39m\u001B[38;5;28mself\u001B[39m\u001B[38;5;241m.\u001B[39m__args, \u001B[38;5;241m*\u001B[39m\u001B[38;5;241m*\u001B[39m\u001B[38;5;28mself\u001B[39m\u001B[38;5;241m.\u001B[39m__kwargs)\n\u001B[1;32m     91\u001B[0m \u001B[38;5;66;03m# This is where the magic happens!  Transform ourselves into\u001B[39;00m\n\u001B[1;32m     92\u001B[0m \u001B[38;5;66;03m# the corpus by modifying our own __dict__ and __class__ to\u001B[39;00m\n\u001B[1;32m     93\u001B[0m \u001B[38;5;66;03m# match that of the corpus.\u001B[39;00m\n\u001B[0;32m---> 95\u001B[0m args, kwargs \u001B[38;5;241m=\u001B[39m \u001B[38;5;28mself\u001B[39m\u001B[38;5;241m.\u001B[39m__args, \u001B[38;5;28mself\u001B[39m\u001B[38;5;241m.\u001B[39m__kwargs\n\u001B[1;32m     96\u001B[0m name, reader_cls \u001B[38;5;241m=\u001B[39m \u001B[38;5;28mself\u001B[39m\u001B[38;5;241m.\u001B[39m__name, \u001B[38;5;28mself\u001B[39m\u001B[38;5;241m.\u001B[39m__reader_cls\n\u001B[1;32m     98\u001B[0m \u001B[38;5;28mself\u001B[39m\u001B[38;5;241m.\u001B[39m\u001B[38;5;18m__dict__\u001B[39m \u001B[38;5;241m=\u001B[39m corpus\u001B[38;5;241m.\u001B[39m\u001B[38;5;18m__dict__\u001B[39m\n",
      "\u001B[0;31mAttributeError\u001B[0m: 'WordListCorpusReader' object has no attribute '_LazyCorpusLoader__args'"
     ]
    }
   ],
   "source": [
    "pipeline.preprocess()"
   ]
  },
  {
   "cell_type": "code",
   "execution_count": null,
   "metadata": {},
   "outputs": [],
   "source": [
    "pipeline.tfidf()"
   ]
  }
 ],
 "metadata": {
  "kernelspec": {
   "display_name": "Python 3 (ipykernel)",
   "language": "python",
   "name": "python3"
  },
  "language_info": {
   "codemirror_mode": {
    "name": "ipython",
    "version": 3
   },
   "file_extension": ".py",
   "mimetype": "text/x-python",
   "name": "python",
   "nbconvert_exporter": "python",
   "pygments_lexer": "ipython3",
   "version": "3.9.11"
  }
 },
 "nbformat": 4,
 "nbformat_minor": 1
}