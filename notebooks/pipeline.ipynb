{
 "cells": [
  {
   "cell_type": "code",
   "execution_count": 1,
   "metadata": {},
   "outputs": [
    {
     "name": "stderr",
     "output_type": "stream",
     "text": [
      "[nltk_data] Downloading package punkt to\n",
      "[nltk_data]     C:\\Users\\D073999\\AppData\\Roaming\\nltk_data...\n",
      "[nltk_data]   Package punkt is already up-to-date!\n",
      "[nltk_data] Downloading package stopwords to\n",
      "[nltk_data]     C:\\Users\\D073999\\AppData\\Roaming\\nltk_data...\n",
      "[nltk_data]   Package stopwords is already up-to-date!\n",
      "[nltk_data] Downloading package wordnet to\n",
      "[nltk_data]     C:\\Users\\D073999\\AppData\\Roaming\\nltk_data...\n",
      "[nltk_data]   Package wordnet is already up-to-date!\n"
     ]
    }
   ],
   "source": [
    "import os\n",
    "import sys\n",
    "import pandas as pd\n",
    "import numpy as np\n",
    "sys.path.append(os.path.dirname((os.path.abspath(''))))\n",
    "\n",
    "from src.pipeline import Pipeline\n",
    "from src.preprocessing.preprocessing import removal, tokenization, stemming"
   ]
  },
  {
   "cell_type": "code",
   "execution_count": 2,
   "metadata": {},
   "outputs": [],
   "source": [
    "collection = pd.read_csv('../data/TREC_Passage/collection.tsv', sep='\\t', names=[\"pID\", \"Passage\"], header=None)\n",
    "queries = pd.read_csv('../data/TREC_Passage/queries.dev.tsv', sep='\\t', names=[\"qID\", \"Query\"], header=None)"
   ]
  },
  {
   "cell_type": "code",
   "execution_count": 3,
   "metadata": {},
   "outputs": [],
   "source": [
    "collection = collection.loc[0:10000, :]\n",
    "queries = queries.loc[0:10000, :]"
   ]
  },
  {
   "cell_type": "code",
   "execution_count": 4,
   "metadata": {},
   "outputs": [
    {
     "data": {
      "text/plain": "   pID                                            Passage\n0    0  The presence of communication amid scientific ...\n1    1  The Manhattan Project and its atomic bomb help...\n2    2  Essay on The Manhattan Project - The Manhattan...\n3    3  The Manhattan Project was the name for a proje...\n4    4  versions of each volume as well as complementa...",
      "text/html": "<div>\n<style scoped>\n    .dataframe tbody tr th:only-of-type {\n        vertical-align: middle;\n    }\n\n    .dataframe tbody tr th {\n        vertical-align: top;\n    }\n\n    .dataframe thead th {\n        text-align: right;\n    }\n</style>\n<table border=\"1\" class=\"dataframe\">\n  <thead>\n    <tr style=\"text-align: right;\">\n      <th></th>\n      <th>pID</th>\n      <th>Passage</th>\n    </tr>\n  </thead>\n  <tbody>\n    <tr>\n      <th>0</th>\n      <td>0</td>\n      <td>The presence of communication amid scientific ...</td>\n    </tr>\n    <tr>\n      <th>1</th>\n      <td>1</td>\n      <td>The Manhattan Project and its atomic bomb help...</td>\n    </tr>\n    <tr>\n      <th>2</th>\n      <td>2</td>\n      <td>Essay on The Manhattan Project - The Manhattan...</td>\n    </tr>\n    <tr>\n      <th>3</th>\n      <td>3</td>\n      <td>The Manhattan Project was the name for a proje...</td>\n    </tr>\n    <tr>\n      <th>4</th>\n      <td>4</td>\n      <td>versions of each volume as well as complementa...</td>\n    </tr>\n  </tbody>\n</table>\n</div>"
     },
     "execution_count": 4,
     "metadata": {},
     "output_type": "execute_result"
    }
   ],
   "source": [
    "collection.head()"
   ]
  },
  {
   "cell_type": "code",
   "execution_count": 4,
   "metadata": {},
   "outputs": [],
   "source": []
  },
  {
   "cell_type": "code",
   "execution_count": 4,
   "metadata": {},
   "outputs": [],
   "source": []
  },
  {
   "cell_type": "code",
   "execution_count": 5,
   "metadata": {},
   "outputs": [
    {
     "name": "stderr",
     "output_type": "stream",
     "text": [
      "100%|██████████| 10001/10001 [00:23<00:00, 428.60it/s]\n"
     ]
    }
   ],
   "source": [
    "collection['preprocessed'] = collection.Passage.progress_apply(lambda text: np.array(\n",
    "            stemming(\n",
    "                removal(\n",
    "                    tokenization(text)\n",
    "                ))))"
   ]
  },
  {
   "cell_type": "code",
   "execution_count": 6,
   "metadata": {},
   "outputs": [
    {
     "name": "stderr",
     "output_type": "stream",
     "text": [
      "100%|██████████| 10001/10001 [00:14<00:00, 676.35it/s]\n"
     ]
    }
   ],
   "source": [
    "queries['preprocessed'] = queries.Query.progress_apply(lambda text: np.array(\n",
    "            stemming(\n",
    "                removal(\n",
    "                    tokenization(text)\n",
    "                ))))"
   ]
  },
  {
   "cell_type": "code",
   "execution_count": 7,
   "metadata": {},
   "outputs": [],
   "source": [
    "from flair.embeddings import ELMoEmbeddings\n",
    "from flair.data import Sentence\n",
    "from nltk.tokenize.treebank import TreebankWordDetokenizer\n",
    "from tqdm import tqdm\n",
    "import torch\n",
    "import os\n",
    "\n",
    "class Elmo(object):\n",
    "    def __init__(self):\n",
    "        # init embedding\n",
    "        self.embedding = ELMoEmbeddings()\n",
    "\n",
    "    def transform(self, X: pd.Series, store: str = None):\n",
    "\n",
    "        elmo_list = []\n",
    "        for line in tqdm(X):\n",
    "            detokenized = TreebankWordDetokenizer().detokenize(line)\n",
    "            sentence = Sentence(detokenized)\n",
    "            self.embedding.embed(sentence)\n",
    "            input = torch.empty(sentence[0].embedding.size())\n",
    "            tokens_per_sentence = torch.zeros_like(input)\n",
    "            for token in sentence:\n",
    "                tokens_per_sentence = torch.add(tokens_per_sentence, token.embedding)\n",
    "            elmo_list.append(tokens_per_sentence)\n",
    "            \n",
    "            if store is not None:\n",
    "                check_path_exists(os.path.dirname(store))\n",
    "                save(elmo_list, store)\n",
    "        return elmo_list"
   ]
  },
  {
   "cell_type": "code",
   "execution_count": null,
   "metadata": {
    "pycharm": {
     "is_executing": true
    }
   },
   "outputs": [
    {
     "name": "stderr",
     "output_type": "stream",
     "text": [
      "  2%|▏         | 180/10001 [10:19<13:00:49,  4.77s/it]"
     ]
    }
   ],
   "source": [
    "elmo = Elmo()\n",
    "\n",
    "collection['elmo'] = elmo.transform(\n",
    "    collection.Passage)\n",
    "queries['elmo'] = elmo.transform(queries.Query)"
   ]
  },
  {
   "cell_type": "code",
   "execution_count": null,
   "metadata": {
    "pycharm": {
     "is_executing": true
    }
   },
   "outputs": [],
   "source": [
    "    def create_glove_feature(self, path: str = 'data/embeddings'):\n",
    "        embeddings = np.array(collection['elmo'])\n",
    "        embeddings_queries = np.array(queries['elmo'])\n",
    "\n",
    "        features['glove_cosine'] = self.features.progress_apply(lambda qrel:\n",
    "                                                                     cosine_similarity_score(embeddings_queries[\n",
    "                                                                                                 self.queries[\n",
    "                                                                                                     self.queries[\n",
    "                                                                                                         'qID'] == qrel.qID].index],\n",
    "                                                                                             embeddings[self.collection[\n",
    "                                                                                                 self.collection[\n",
    "                                                                                                     'pID'] == qrel.pID].index]),\n",
    "                                                                     axis=1)\n",
    "        features['glove_euclidean'] = self.features.progress_apply(lambda qrel:\n",
    "                                                                        euclidean_distance_score(embeddings_queries[\n",
    "                                                                                                     self.queries[\n",
    "                                                                                                         self.queries[\n",
    "                                                                                                             'qID'] == qrel.qID].index],\n",
    "                                                                                                 embeddings[\n",
    "                                                                                                     self.collection[\n",
    "                                                                                                         self.collection[\n",
    "                                                                                                             'pID'] == qrel.pID].index]),\n",
    "                                                                        axis=1)\n",
    "        features['glove_manhattan'] = self.features.progress_apply(lambda qrel:\n",
    "                                                                        manhattan_distance_score(embeddings_queries[\n",
    "                                                                                                     self.queries[\n",
    "                                                                                                         self.queries[\n",
    "                                                                                                             'qID'] == qrel.qID].index],\n",
    "                                                                                                 embeddings[\n",
    "                                                                                                     self.collection[\n",
    "                                                                                                         self.collection[\n",
    "                                                                                                             'pID'] == qrel.pID].index]),\n",
    "                                                                        axis=1)"
   ]
  }
 ],
 "metadata": {
  "kernelspec": {
   "display_name": "Python 3 (ipykernel)",
   "language": "python",
   "name": "python3"
  },
  "language_info": {
   "codemirror_mode": {
    "name": "ipython",
    "version": 3
   },
   "file_extension": ".py",
   "mimetype": "text/x-python",
   "name": "python",
   "nbconvert_exporter": "python",
   "pygments_lexer": "ipython3",
   "version": "3.7.0"
  }
 },
 "nbformat": 4,
 "nbformat_minor": 1
}